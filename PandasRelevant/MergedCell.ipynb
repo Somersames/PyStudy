{
 "cells": [
  {
   "cell_type": "code",
   "execution_count": 19,
   "metadata": {},
   "outputs": [],
   "source": [
    "import xlrd"
   ]
  },
  {
   "cell_type": "code",
   "execution_count": 20,
   "metadata": {},
   "outputs": [],
   "source": [
    "excel = xlrd.open_workbook('E:\\\\Merge.xlsx')"
   ]
  },
  {
   "cell_type": "code",
   "execution_count": 21,
   "metadata": {},
   "outputs": [],
   "source": [
    "sheet_0 = excel.sheet_by_index(0)"
   ]
  },
  {
   "cell_type": "code",
   "execution_count": 22,
   "metadata": {},
   "outputs": [
    {
     "name": "stdout",
     "output_type": "stream",
     "text": [
      "语文\n"
     ]
    }
   ],
   "source": [
    "for crange in sheet_0.merged_cells:\n",
    "#     rlo, rhi, clo, chi = crange\n",
    "#     for rowx in xrange(rlo, rhi):\n",
    "    print sheet_0.cell(rowx=rlo,colx=0).value\n",
    "        \n",
    "#         for colx in xrange(clo, chi):\n",
    "#             print sheet_0.cell(rowx=rowx,colx=colx).value"
   ]
  },
  {
   "cell_type": "code",
   "execution_count": null,
   "metadata": {},
   "outputs": [],
   "source": []
  }
 ],
 "metadata": {
  "kernelspec": {
   "display_name": "Python 2",
   "language": "python",
   "name": "python2"
  },
  "language_info": {
   "codemirror_mode": {
    "name": "ipython",
    "version": 2
   },
   "file_extension": ".py",
   "mimetype": "text/x-python",
   "name": "python",
   "nbconvert_exporter": "python",
   "pygments_lexer": "ipython2",
   "version": "2.7.14"
  }
 },
 "nbformat": 4,
 "nbformat_minor": 2
}
